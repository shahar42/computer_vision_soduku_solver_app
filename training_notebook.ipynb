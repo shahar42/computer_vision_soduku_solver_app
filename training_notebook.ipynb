{
  "cells": [
    {
      "cell_type": "markdown",
      "metadata": {
        "id": "header"
      },
      "source": [
        "# Sudoku Recognizer - Training Notebook\n",
        "\n",
        "This notebook trains the Sudoku Recognizer models on Google Colab using GPU acceleration."
      ]
    },
    {
      "cell_type": "code",
      "execution_count": null,
      "metadata": {
        "id": "mount_drive"
      },
      "outputs": [],
      "source": [
        "# Mount Google Drive\n",
        "from google.colab import drive\n",
        "drive.mount('/content/drive')"
      ]
    },
    {
      "cell_type": "code",
      "execution_count": null,
      "metadata": {
        "id": "clone_repo"
      },
      "outputs": [],
      "source": [
        "# Clone your GitHub repository (update with your GitHub username)\n",
        "!git clone https://github.com/yourusername/sudoku-recognizer.git\n",
        "%cd sudoku-recognizer"
      ]
    },
    {
      "cell_type": "code",
      "execution_count": null,
      "metadata": {
        "id": "install_deps"
      },
      "outputs": [],
      "source": [
        "# Install required packages\n",
        "!pip install numpy opencv-python scikit-learn scipy matplotlib tensorflow pillow tqdm pyyaml jsonschema"
      ]
    },
    {
      "cell_type": "code",
      "execution_count": null,
      "metadata": {
        "id": "create_dirs"
      },
      "outputs": [],
      "source": [
        "# Create necessary directories\n",
        "!mkdir -p data/raw data/processed data/models"
      ]
    },
    {
      "cell_type": "code",
      "execution_count": null,
      "metadata": {
        "id": "upload_dataset"
      },
      "outputs": [],
      "source": [
        "# Upload your dataset to Google Drive and copy it to the project\n",
        "# Alternatively, you can upload directly to Colab\n",
        "!cp -r /content/drive/MyDrive/sudoku_dataset/* data/raw/"
      ]
    },
    {
      "cell_type": "code",
      "execution_count": null,
      "metadata": {
        "id": "check_gpu"
      },
      "outputs": [],
      "source": [
        "# Check if GPU is available\n",
        "import tensorflow as tf\n",
        "print(\"TensorFlow version:\", tf.__version__)\n",
        "print(\"GPU Available: \", tf.config.list_physical_devices('GPU'))"
      ]
    },
    {
      "cell_type": "code",
      "execution_count": null,
      "metadata": {
        "id": "train_model"
      },
      "outputs": [],
      "source": [
        "# Run the training script\n",
        "!python train.py --data-dir data/raw --processed-dir data/processed --model-dir data/models"
      ]
    },
    {
      "cell_type": "code",
      "execution_count": null,
      "metadata": {
        "id": "copy_to_drive"
      },
      "outputs": [],
      "source": [
        "# Copy trained models to Google Drive\n",
        "!mkdir -p /content/drive/MyDrive/sudoku_models\n",
        "!cp -r data/models/* /content/drive/MyDrive/sudoku_models/"
      ]
    }
  ],
  "metadata": {
    "colab": {
      "name": "sudoku_recognizer_training.ipynb",
      "provenance": [],
      "gpuType": "T4"
    },
    "kernelspec": {
      "name": "python3",
      "display_name": "Python 3"
    },
    "accelerator": "GPU"
  },
  "nbformat": 4,
  "nbformat_minor": 0
}
